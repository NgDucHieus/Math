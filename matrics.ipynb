{
 "cells": [
  {
   "cell_type": "code",
   "execution_count": 11,
   "id": "994ae805",
   "metadata": {},
   "outputs": [
    {
     "data": {
      "image/png": "[encoded data removed]",
      "text/plain": [
       "<Figure size 800x800 with 1 Axes>"
      ]
     },
     "metadata": {},
     "output_type": "display_data"
    }
   ],
   "source": [
    "import matplotlib.pyplot as plt\n",
    "import numpy as np\n",
    "\n",
    "# Parameters\n",
    "rows, cols = 8, 8  # Grid dimensions\n",
    "square_size = 0.7  # Size of each square\n",
    "max_value = rows * cols - 1  # Maximum grayscale value\n",
    "\n",
    "# Generate grayscale values\n",
    "grayscale_values = np.array([[i * cols + j for j in range(cols)] for i in range(rows)])\n",
    "\n",
    "# Normalize grayscale values for color mapping\n",
    "normalized_values = grayscale_values / max_value\n",
    "\n",
    "# Create the figure and axis\n",
    "fig, ax = plt.subplots(figsize=(8, 8))\n",
    "ax.set_aspect('equal')\n",
    "\n",
    "# Plot the grid of squares\n",
    "for i in range(rows):\n",
    "    for j in range(cols):\n",
    "        color = plt.cm.gray(normalized_values[i, j])  # Map value to grayscale color\n",
    "        rect = plt.Rectangle(\n",
    "            (j * square_size, -i * square_size),  # Bottom-left corner\n",
    "            square_size, square_size,  # Width and height\n",
    "            color=color\n",
    "        )\n",
    "        ax.add_patch(rect)\n",
    "\n",
    "# Adjust the plot limits and hide axes\n",
    "ax.set_xlim(0, cols * square_size)\n",
    "ax.set_ylim(-rows * square_size, 0)\n",
    "ax.axis('off')\n",
    "plt.savefig('matrix.png')\n",
    "# Display the grid\n",
    "plt.show()\n"
   ]
  },
  {
   "cell_type": "code",
   "execution_count": 9,
   "id": "2d8f6fd2",
   "metadata": {},
   "outputs": [
    {
     "name": "stdout",
     "output_type": "stream",
     "text": [
      "Grayscale Values Matrix:\n",
      " 0  1  2  3  4  5  6  7\n",
      " 8  9 10 11 12 13 14 15\n",
      "16 17 18 19 20 21 22 23\n",
      "24 25 26 27 28 29 30 31\n",
      "32 33 34 35 36 37 38 39\n",
      "40 41 42 43 44 45 46 47\n",
      "48 49 50 51 52 53 54 55\n",
      "56 57 58 59 60 61 62 63\n"
     ]
    }
   ],
   "source": [
    "# Print the grayscale values matrix with aligned columns\n",
    "print(\"Grayscale Values Matrix:\")\n",
    "for row in grayscale_values:\n",
    "    print(\" \".join(f\"{value:2}\" for value in row))\n"
   ]
  }
 ],
 "metadata": {
  "kernelspec": {
   "display_name": "Python 3 (ipykernel)",
   "language": "python",
   "name": "python3"
  },
  "language_info": {
   "codemirror_mode": {
    "name": "ipython",
    "version": 3
   },
   "file_extension": ".py",
   "mimetype": "text/x-python",
   "name": "python",
   "nbconvert_exporter": "python",
   "pygments_lexer": "ipython3",
   "version": "3.9.13"
  }
 },
 "nbformat": 4,
 "nbformat_minor": 5
}
