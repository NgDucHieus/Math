{
 "cells": [
  {
   "cell_type": "code",
   "execution_count": 4,
   "id": "994ae805",
   "metadata": {},
   "outputs": [
    {
     "data": {
      "image/png": "[encoded data removed]",
      "text/plain": [
       "<Figure size 800x800 with 1 Axes>"
      ]
     },
     "metadata": {},
     "output_type": "display_data"
    }
   ],
   "source": [
    "import matplotlib.pyplot as plt\n",
    "import numpy as np\n",
    "\n",
    "# Parameters\n",
    "rows, cols = 8, 8  # Grid dimensions\n",
    "square_size = 0.7  # Size of each square\n",
    "max_value = rows * cols - 1  # Maximum grayscale value\n",
    "\n",
    "# Generate grayscale values\n",
    "grayscale_values = np.array([[i * cols + j for j in range(cols)] for i in range(rows)])\n",
    "\n",
    "# Normalize grayscale values for color mapping\n",
    "normalized_values = grayscale_values / max_value\n",
    "\n",
    "# Create the figure and axis\n",
    "fig, ax = plt.subplots(figsize=(8, 8))\n",
    "ax.set_aspect('equal')\n",
    "\n",
    "# Plot the grid of squares\n",
    "for i in range(rows):\n",
    "    for j in range(cols):\n",
    "        color = plt.cm.gray(normalized_values[i, j])  # Map value to grayscale color\n",
    "        rect = plt.Rectangle(\n",
    "            (j * square_size, -i * square_size),  # Bottom-left corner\n",
    "            square_size, square_size,  # Width and height\n",
    "            color=color\n",
    "        )\n",
    "        ax.add_patch(rect)\n",
    "\n",
    "# Adjust the plot limits and hide axes\n",
    "ax.set_xlim(0, cols * square_size)\n",
    "ax.set_ylim(-rows * square_size, 0)\n",
    "ax.axis('off')\n",
    "\n",
    "# Display the grid\n",
    "plt.show()\n"
   ]
  },
  {
   "cell_type": "code",
   "execution_count": 5,
   "id": "2d8f6fd2",
   "metadata": {},
   "outputs": [
    {
     "ename": "ModuleNotFoundError",
     "evalue": "No module named 'ace_tools'",
     "output_type": "error",
     "traceback": [
      "\u001b[1;31m---------------------------------------------------------------------------\u001b[0m",
      "\u001b[1;31mModuleNotFoundError\u001b[0m                       Traceback (most recent call last)",
      "Cell \u001b[1;32mIn[5], line 7\u001b[0m\n\u001b[0;32m      4\u001b[0m grayscale_df \u001b[38;5;241m=\u001b[39m pd\u001b[38;5;241m.\u001b[39mDataFrame(grayscale_values)\n\u001b[0;32m      6\u001b[0m \u001b[38;5;66;03m# Display the grayscale values matrix\u001b[39;00m\n\u001b[1;32m----> 7\u001b[0m \u001b[38;5;28;01mimport\u001b[39;00m\u001b[38;5;250m \u001b[39m\u001b[38;5;21;01mace_tools\u001b[39;00m\u001b[38;5;250m \u001b[39m\u001b[38;5;28;01mas\u001b[39;00m\u001b[38;5;250m \u001b[39m\u001b[38;5;21;01mtools\u001b[39;00m; tools\u001b[38;5;241m.\u001b[39mdisplay_dataframe_to_user(name\u001b[38;5;241m=\u001b[39m\u001b[38;5;124m\"\u001b[39m\u001b[38;5;124mGrayscale Values Matrix\u001b[39m\u001b[38;5;124m\"\u001b[39m, dataframe\u001b[38;5;241m=\u001b[39mgrayscale_df)\n",
      "\u001b[1;31mModuleNotFoundError\u001b[0m: No module named 'ace_tools'"
     ]
    }
   ],
   "source": [
    "import pandas as pd\n",
    "\n",
    "# Convert grayscale values to a DataFrame for better display\n",
    "grayscale_df = pd.DataFrame(grayscale_values)\n",
    "\n",
    "# Display the grayscale values matrix\n",
    "import ace_tools as tools; tools.display_dataframe_to_user(name=\"Grayscale Values Matrix\", dataframe=grayscale_df)\n"
   ]
  }
 ],
 "metadata": {
  "kernelspec": {
   "display_name": "Python 3 (ipykernel)",
   "language": "python",
   "name": "python3"
  },
  "language_info": {
   "codemirror_mode": {
    "name": "ipython",
    "version": 3
   },
   "file_extension": ".py",
   "mimetype": "text/x-python",
   "name": "python",
   "nbconvert_exporter": "python",
   "pygments_lexer": "ipython3",
   "version": "3.9.13"
  }
 },
 "nbformat": 4,
 "nbformat_minor": 5
}
